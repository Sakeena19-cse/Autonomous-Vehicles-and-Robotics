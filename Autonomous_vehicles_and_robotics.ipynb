{
  "nbformat": 4,
  "nbformat_minor": 0,
  "metadata": {
    "colab": {
      "provenance": [],
      "authorship_tag": "ABX9TyOSwTCVOYOAV+D+yGh+tz98",
      "include_colab_link": true
    },
    "kernelspec": {
      "name": "python3",
      "display_name": "Python 3"
    },
    "language_info": {
      "name": "python"
    }
  },
  "cells": [
    {
      "cell_type": "markdown",
      "metadata": {
        "id": "view-in-github",
        "colab_type": "text"
      },
      "source": [
        "<a href=\"https://colab.research.google.com/github/Sakeena19-cse/Autonomous-Vehicles-and-Robotics/blob/main/Autonomous_vehicles_and_robotics.ipynb\" target=\"_parent\"><img src=\"https://colab.research.google.com/assets/colab-badge.svg\" alt=\"Open In Colab\"/></a>"
      ]
    },
    {
      "cell_type": "code",
      "execution_count": null,
      "metadata": {
        "id": "8lkulJSGdnEY"
      },
      "outputs": [],
      "source": [
        "// Pin Definitions\n",
        "#define IR_LEFT A0\n",
        "#define IR_RIGHT A1\n",
        "#define TRIG 9\n",
        "#define ECHO 8\n",
        "#define ENA 5\n",
        "#define IN1 2\n",
        "#define IN2 3\n",
        "#define IN3 4\n",
        "#define IN4 7\n",
        "#define ENB 6\n",
        "\n",
        "void setup() {\n",
        "  pinMode(IR_LEFT, INPUT);\n",
        "  pinMode(IR_RIGHT, INPUT);\n",
        "  pinMode(TRIG, OUTPUT);\n",
        "  pinMode(ECHO, INPUT);\n",
        "  pinMode(IN1, OUTPUT);\n",
        "  pinMode(IN2, OUTPUT);\n",
        "  pinMode(IN3, OUTPUT);\n",
        "  pinMode(IN4, OUTPUT);\n",
        "  pinMode(ENA, OUTPUT);\n",
        "  pinMode(ENB, OUTPUT);\n",
        "  Serial.begin(9600);\n",
        "}\n",
        "long readDistance() {\n",
        "  digitalWrite(TRIG, LOW);\n",
        "  delayMicroseconds(2);\n",
        "  digitalWrite(TRIG, HIGH);\n",
        "  delayMicroseconds(10);\n",
        "  digitalWrite(TRIG, LOW);\n",
        "  return pulseIn(ECHO, HIGH) / 58;\n",
        "}\n",
        "\n",
        "void forward() {\n",
        "  digitalWrite(IN1, HIGH);\n",
        "  digitalWrite(IN2, LOW);\n",
        "  digitalWrite(IN3, HIGH);\n",
        "  digitalWrite(IN4, LOW);\n",
        "  analogWrite(ENA, 200);\n",
        "  analogWrite(ENB, 200);\n",
        "}\n",
        "\n",
        "void stopMotors() {\n",
        "  digitalWrite(IN1, LOW);\n",
        "  digitalWrite(IN2, LOW);\n",
        "  digitalWrite(IN3, LOW);\n",
        "  digitalWrite(IN4, LOW);\n",
        "}\n",
        "\n",
        "void turnLeft() {\n",
        "  digitalWrite(IN1, LOW);\n",
        "  digitalWrite(IN2, HIGH);\n",
        "  digitalWrite(IN3, HIGH);\n",
        "  digitalWrite(IN4, LOW);\n",
        "}\n",
        "\n",
        "void turnRight() {\n",
        "  digitalWrite(IN1, HIGH);\n",
        "  digitalWrite(IN2, LOW);\n",
        "  digitalWrite(IN3, LOW);\n",
        "  digitalWrite(IN4, HIGH);\n",
        "}\n",
        "\n",
        "void loop() {\n",
        "  int leftIR = digitalRead(IR_LEFT);\n",
        "  int rightIR = digitalRead(IR_RIGHT);\n",
        "  long distance = readDistance();\n",
        "\n",
        "  if (distance < 15) {\n",
        "    stopMotors();\n",
        "    delay(500);\n",
        "    turnRight();\n",
        "    delay(500);\n",
        "  } else if (leftIR == 0 && rightIR == 0) {\n",
        "    forward();\n",
        "  } else if (leftIR == 0 && rightIR == 1) {\n",
        "    turnLeft();\n",
        "  } else if (leftIR == 1 && rightIR == 0) {\n",
        "    turnRight();\n",
        "  } else {\n",
        "    stopMotors();\n",
        "  }\n",
        "}\n"
      ]
    }
  ]
}